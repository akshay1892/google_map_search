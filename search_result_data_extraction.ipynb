{
 "cells": [
  {
   "cell_type": "markdown",
   "id": "3a85b8f5",
   "metadata": {},
   "source": [
    "### Scraping google map search results data using Selenium and python\n",
    "\n",
    "Prerequisites:\n",
    " - Python 3.6\n",
    " - Selenium driver for your OS (https://chromedriver.chromium.org/downloads)\n",
    " - Add the selenium driver to PATH"
   ]
  },
  {
   "cell_type": "code",
   "execution_count": 64,
   "id": "b46d807b",
   "metadata": {},
   "outputs": [],
   "source": [
    "from selenium import webdriver\n",
    "import pandas as pd\n",
    "import time"
   ]
  },
  {
   "cell_type": "code",
   "execution_count": 68,
   "id": "a4bf6544",
   "metadata": {},
   "outputs": [],
   "source": [
    "path_to_chrome_driver='chromedriver_win32/chromedriver.exe'\n",
    "next_button_xpath = '//*[@id=\"ppdPk-Ej1Yeb-LgbsSe-tJiF1e\"]'\n",
    "back_button_xpath = '//*[@id=\"ppdPk-Ej1Yeb-LgbsSe-E7ORLb\"]'\n",
    "search_results_xpath='//div[contains(@aria-label,\"Results for\")]//div[contains(@jsaction,\"mouseover\")]'"
   ]
  },
  {
   "cell_type": "code",
   "execution_count": 129,
   "id": "27c82e83",
   "metadata": {},
   "outputs": [],
   "source": [
    "def click_element(xpath):\n",
    "    ele = browser.find_element_by_xpath(xpath)\n",
    "    if ele.is_enabled() & ele.is_displayed():\n",
    "        ele.click()\n",
    "        \n",
    "def is_element_available(xpath):\n",
    "    ele = browser.find_element_by_xpath(xpath)\n",
    "    return ele.is_enabled() & ele.is_displayed()\n",
    "    \n",
    "\n",
    "def scroll_to_bottom():\n",
    "    \n",
    "    c = browser.find_elements_by_xpath(search_results_xpath)\n",
    "    if len(c)>0:\n",
    "        while(len(c)<20):\n",
    "    #         print(len(c))\n",
    "            temp = len(c)\n",
    "            browser.execute_script('arguments[0].scrollIntoView(true)',c[-1])\n",
    "            time.sleep(5)\n",
    "            c = browser.find_elements_by_xpath(search_results_xpath)\n",
    "            if temp==len(c):\n",
    "                break\n",
    "        print(len(c))\n",
    "       "
   ]
  },
  {
   "cell_type": "code",
   "execution_count": 92,
   "id": "66eaf6c4",
   "metadata": {},
   "outputs": [],
   "source": [
    "def get_lat_long(element):\n",
    "    a = element.find_element_by_tag_name('a').get_attribute('href')\n",
    "    lat_long = a.split('/data=')[1].replace('?authuser=0&hl=en&rclk=1','').split('!3d')[1].split('!4d')\n",
    "    return lat_long"
   ]
  },
  {
   "cell_type": "code",
   "execution_count": 96,
   "id": "25342a7a",
   "metadata": {},
   "outputs": [],
   "source": [
    "if(is_element_available(next_button_xpath)):\n",
    "        click_element(next_button_xpath)"
   ]
  },
  {
   "cell_type": "code",
   "execution_count": 102,
   "id": "58eef979",
   "metadata": {},
   "outputs": [],
   "source": [
    "# browser = webdriver.Chrome(path_to_chrome_driver)\n",
    "browser.get('https://www.google.com/maps/search/retaurants+near+me')"
   ]
  },
  {
   "cell_type": "code",
   "execution_count": 135,
   "id": "5ca10f31",
   "metadata": {},
   "outputs": [
    {
     "name": "stdout",
     "output_type": "stream",
     "text": [
      "20\n",
      "Page 1 results fetched: 20\n"
     ]
    }
   ],
   "source": [
    "df_list=[]\n",
    "page=1\n",
    "while(True):\n",
    "    \n",
    "    time.sleep(5)\n",
    "    scroll_to_bottom()\n",
    "    c = browser.find_elements_by_xpath(search_results_xpath)\n",
    "\n",
    "    for item in c:\n",
    "        data = item.text.split('\\n')\n",
    "        \n",
    "        name = data[0]\n",
    "        Rating = data[1]\n",
    "        Address = data[2]\n",
    "        lat_lng = get_lat_long(item)\n",
    "#         print(data[0],lat_lng)\n",
    "        df_list.append(pd.DataFrame([[name,Rating, Address, lat_lng]]))\n",
    "    print('Page',page, 'results fetched:',len(c))\n",
    "    page += 1\n",
    "    \n",
    "    \n",
    "    time.sleep(5)\n",
    "    if(is_element_available(next_button_xpath) | page<3):\n",
    "        click_element(next_button_xpath)\n",
    "        \n",
    "    else:\n",
    "        break"
   ]
  },
  {
   "cell_type": "code",
   "execution_count": 130,
   "id": "f0cbe278",
   "metadata": {},
   "outputs": [],
   "source": [
    "scroll_to_bottom()"
   ]
  },
  {
   "cell_type": "code",
   "execution_count": 132,
   "id": "0141bb5b",
   "metadata": {},
   "outputs": [
    {
     "ename": "ValueError",
     "evalue": "No objects to concatenate",
     "output_type": "error",
     "traceback": [
      "\u001b[1;31m---------------------------------------------------------------------------\u001b[0m",
      "\u001b[1;31mValueError\u001b[0m                                Traceback (most recent call last)",
      "\u001b[1;32m~\\AppData\\Local\\Temp/ipykernel_6476/3398381204.py\u001b[0m in \u001b[0;36m<module>\u001b[1;34m\u001b[0m\n\u001b[1;32m----> 1\u001b[1;33m \u001b[0mpd\u001b[0m\u001b[1;33m.\u001b[0m\u001b[0mconcat\u001b[0m\u001b[1;33m(\u001b[0m\u001b[0mdf_list\u001b[0m\u001b[1;33m)\u001b[0m\u001b[1;33m\u001b[0m\u001b[1;33m\u001b[0m\u001b[0m\n\u001b[0m",
      "\u001b[1;32mc:\\programdata\\miniconda3\\lib\\site-packages\\pandas\\util\\_decorators.py\u001b[0m in \u001b[0;36mwrapper\u001b[1;34m(*args, **kwargs)\u001b[0m\n\u001b[0;32m    309\u001b[0m                     \u001b[0mstacklevel\u001b[0m\u001b[1;33m=\u001b[0m\u001b[0mstacklevel\u001b[0m\u001b[1;33m,\u001b[0m\u001b[1;33m\u001b[0m\u001b[1;33m\u001b[0m\u001b[0m\n\u001b[0;32m    310\u001b[0m                 )\n\u001b[1;32m--> 311\u001b[1;33m             \u001b[1;32mreturn\u001b[0m \u001b[0mfunc\u001b[0m\u001b[1;33m(\u001b[0m\u001b[1;33m*\u001b[0m\u001b[0margs\u001b[0m\u001b[1;33m,\u001b[0m \u001b[1;33m**\u001b[0m\u001b[0mkwargs\u001b[0m\u001b[1;33m)\u001b[0m\u001b[1;33m\u001b[0m\u001b[1;33m\u001b[0m\u001b[0m\n\u001b[0m\u001b[0;32m    312\u001b[0m \u001b[1;33m\u001b[0m\u001b[0m\n\u001b[0;32m    313\u001b[0m         \u001b[1;32mreturn\u001b[0m \u001b[0mwrapper\u001b[0m\u001b[1;33m\u001b[0m\u001b[1;33m\u001b[0m\u001b[0m\n",
      "\u001b[1;32mc:\\programdata\\miniconda3\\lib\\site-packages\\pandas\\core\\reshape\\concat.py\u001b[0m in \u001b[0;36mconcat\u001b[1;34m(objs, axis, join, ignore_index, keys, levels, names, verify_integrity, sort, copy)\u001b[0m\n\u001b[0;32m    292\u001b[0m     \u001b[0mValueError\u001b[0m\u001b[1;33m:\u001b[0m \u001b[0mIndexes\u001b[0m \u001b[0mhave\u001b[0m \u001b[0moverlapping\u001b[0m \u001b[0mvalues\u001b[0m\u001b[1;33m:\u001b[0m \u001b[1;33m[\u001b[0m\u001b[1;34m'a'\u001b[0m\u001b[1;33m]\u001b[0m\u001b[1;33m\u001b[0m\u001b[1;33m\u001b[0m\u001b[0m\n\u001b[0;32m    293\u001b[0m     \"\"\"\n\u001b[1;32m--> 294\u001b[1;33m     op = _Concatenator(\n\u001b[0m\u001b[0;32m    295\u001b[0m         \u001b[0mobjs\u001b[0m\u001b[1;33m,\u001b[0m\u001b[1;33m\u001b[0m\u001b[1;33m\u001b[0m\u001b[0m\n\u001b[0;32m    296\u001b[0m         \u001b[0maxis\u001b[0m\u001b[1;33m=\u001b[0m\u001b[0maxis\u001b[0m\u001b[1;33m,\u001b[0m\u001b[1;33m\u001b[0m\u001b[1;33m\u001b[0m\u001b[0m\n",
      "\u001b[1;32mc:\\programdata\\miniconda3\\lib\\site-packages\\pandas\\core\\reshape\\concat.py\u001b[0m in \u001b[0;36m__init__\u001b[1;34m(self, objs, axis, join, keys, levels, names, ignore_index, verify_integrity, copy, sort)\u001b[0m\n\u001b[0;32m    349\u001b[0m \u001b[1;33m\u001b[0m\u001b[0m\n\u001b[0;32m    350\u001b[0m         \u001b[1;32mif\u001b[0m \u001b[0mlen\u001b[0m\u001b[1;33m(\u001b[0m\u001b[0mobjs\u001b[0m\u001b[1;33m)\u001b[0m \u001b[1;33m==\u001b[0m \u001b[1;36m0\u001b[0m\u001b[1;33m:\u001b[0m\u001b[1;33m\u001b[0m\u001b[1;33m\u001b[0m\u001b[0m\n\u001b[1;32m--> 351\u001b[1;33m             \u001b[1;32mraise\u001b[0m \u001b[0mValueError\u001b[0m\u001b[1;33m(\u001b[0m\u001b[1;34m\"No objects to concatenate\"\u001b[0m\u001b[1;33m)\u001b[0m\u001b[1;33m\u001b[0m\u001b[1;33m\u001b[0m\u001b[0m\n\u001b[0m\u001b[0;32m    352\u001b[0m \u001b[1;33m\u001b[0m\u001b[0m\n\u001b[0;32m    353\u001b[0m         \u001b[1;32mif\u001b[0m \u001b[0mkeys\u001b[0m \u001b[1;32mis\u001b[0m \u001b[1;32mNone\u001b[0m\u001b[1;33m:\u001b[0m\u001b[1;33m\u001b[0m\u001b[1;33m\u001b[0m\u001b[0m\n",
      "\u001b[1;31mValueError\u001b[0m: No objects to concatenate"
     ]
    }
   ],
   "source": [
    "pd.concat(df_list)"
   ]
  },
  {
   "cell_type": "code",
   "execution_count": 128,
   "id": "64c63679",
   "metadata": {},
   "outputs": [
    {
     "data": {
      "text/plain": [
       "0"
      ]
     },
     "execution_count": 128,
     "metadata": {},
     "output_type": "execute_result"
    }
   ],
   "source": [
    "c = browser.find_elements_by_xpath(search_results_xpath)\n",
    "len(c)\n",
    "# data = c[4].text.split('\\n')\n",
    "\n",
    "# name = data[0]\n",
    "# Rating = data[1]\n",
    "# Address = data[2]\n",
    "# data"
   ]
  }
 ],
 "metadata": {
  "kernelspec": {
   "display_name": "Python 3 (ipykernel)",
   "language": "python",
   "name": "python3"
  },
  "language_info": {
   "codemirror_mode": {
    "name": "ipython",
    "version": 3
   },
   "file_extension": ".py",
   "mimetype": "text/x-python",
   "name": "python",
   "nbconvert_exporter": "python",
   "pygments_lexer": "ipython3",
   "version": "3.9.1"
  }
 },
 "nbformat": 4,
 "nbformat_minor": 5
}
