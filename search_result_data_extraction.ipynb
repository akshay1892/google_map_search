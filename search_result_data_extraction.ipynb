{
 "cells": [
  {
   "cell_type": "markdown",
   "id": "3a85b8f5",
   "metadata": {},
   "source": [
    "### Scraping google map search results data using Selenium and python\n",
    "\n",
    "Prerequisites:\n",
    " - Python 3.6\n",
    " - Selenium driver for your OS (https://chromedriver.chromium.org/downloads)\n",
    " - Add the selenium driver to PATH"
   ]
  },
  {
   "cell_type": "code",
   "execution_count": 64,
   "id": "b46d807b",
   "metadata": {},
   "outputs": [],
   "source": [
    "from selenium import webdriver\n",
    "import pandas as pd\n",
    "import time"
   ]
  },
  {
   "cell_type": "code",
   "execution_count": 68,
   "id": "bd6e9793",
   "metadata": {},
   "outputs": [],
   "source": [
    "path_to_chrome_driver='chromedriver_win32/chromedriver.exe'\n",
    "next_button_xpath = '//*[@id=\"ppdPk-Ej1Yeb-LgbsSe-tJiF1e\"]'\n",
    "back_button_xpath = '//*[@id=\"ppdPk-Ej1Yeb-LgbsSe-E7ORLb\"]'\n",
    "search_results_xpath='//div[contains(@aria-label,\"Results for\")]//div[contains(@jsaction,\"mouseover\")]'"
   ]
  },
  {
   "cell_type": "code",
   "execution_count": 67,
   "id": "ddbbc408",
   "metadata": {},
   "outputs": [],
   "source": [
    "def click_element(xpath):\n",
    "    ele = browser.find_element_by_xpath(xpath)\n",
    "    if ele.is_enabled() & ele.is_displayed():\n",
    "        ele.click()\n",
    "        \n",
    "def is_element_available(xpath):\n",
    "    ele = browser.find_element_by_xpath(xpath)\n",
    "    return ele.is_enabled() & ele.is_displayed()\n",
    "    \n",
    "\n",
    "def scroll_to_bottom():\n",
    "    \n",
    "    c = browser.find_elements_by_xpath(search_results_xpath)\n",
    "    \n",
    "    while(len(c)<20):\n",
    "        print(len(c))\n",
    "        temp = len(c)\n",
    "        browser.execute_script('arguments[0].scrollIntoView(true)',c[-1])\n",
    "        time.sleep(2)\n",
    "        c = browser.find_elements_by_xpath(search_results_xpath)\n",
    "        if temp==len(c):\n",
    "            break\n",
    "    print(len(c))\n",
    "       "
   ]
  },
  {
   "cell_type": "code",
   "execution_count": 92,
   "id": "2038be40",
   "metadata": {},
   "outputs": [],
   "source": [
    "def get_lat_long(element):\n",
    "    a = element.find_element_by_tag_name('a').get_attribute('href')\n",
    "    lat_long = a.split('/data=')[1].replace('?authuser=0&hl=en&rclk=1','').split('!3d')[1].split('!4d')\n",
    "    return lat_long"
   ]
  },
  {
   "cell_type": "code",
   "execution_count": 96,
   "id": "55f4793b",
   "metadata": {},
   "outputs": [],
   "source": [
    "if(is_element_available(next_button_xpath)):\n",
    "        click_element(next_button_xpath)"
   ]
  },
  {
   "cell_type": "code",
   "execution_count": 102,
   "id": "75a59717",
   "metadata": {},
   "outputs": [],
   "source": [
    "# browser = webdriver.Chrome(path_to_chrome_driver)\n",
    "browser.get('https://www.google.com/maps/search/retaurants+near+me')"
   ]
  },
  {
   "cell_type": "code",
   "execution_count": 103,
   "id": "6ad0ac0f",
   "metadata": {},
   "outputs": [
    {
     "name": "stdout",
     "output_type": "stream",
     "text": [
      "6\n",
      "12\n",
      "18\n",
      "20\n",
      "Let’s eatee ['28.6223545', '77.3045551']\n",
      "The Hungernator ['28.616487', '77.287892']\n",
      "Roll Club ['28.6195263', '77.3003462']\n",
      "Sethi's Kebab & Curries ['28.6197647', '77.3014486']\n",
      "Shyam fast food ['28.6233789', '77.2987763']\n",
      "Food Hub Restaurant ['28.6119009', '77.2887453']\n",
      "Wah Ji Wah ['28.6197467', '77.3003968']\n",
      "Veerji Malai Chaap Wale ['28.6196325', '77.3007384']\n",
      "Spicy Deg ['28.6177356', '77.293078']\n",
      "Al-Maroosh Chicken Take Away ['28.6221658', '77.2933356']\n",
      "Sweets & Spices ['28.6196803', '77.3008588']\n",
      "Chitra Pizza ['28.6243278', '77.294505']\n",
      "Princz Restaurant ['28.6259344', '77.3041643']\n",
      "Meena Dhaba & PB02 Family Restaurant ['28.620554', '77.279822']\n",
      "House of handi ['28.6199021', '77.3017671']\n",
      "Cafe Junk : The best dine-in Cafe in mayur vihar ['28.6198501', '77.3018709']\n",
      "Sandwich Factory ['28.6192221', '77.3011503']\n",
      "Kanha Restaurant ['28.6188911', '77.2838274']\n",
      "Kingdom of Momos-I.P.Extension ['28.6283105', '77.307785']\n",
      "Manoj Naan Wala ['28.6224699', '77.2948255']\n",
      "20\n",
      "20\n",
      "Fang's Oriental Kitchen ['28.64458', '77.181167']\n",
      "Zahra Restaurant & Café-Zakir Nagar ['28.5670347', '77.2782894']\n",
      "Khan Chacha ['28.6006759', '77.2272916']\n",
      "The Golden Dragon Restaurants ['28.6369328', '77.2859859']\n",
      "Chinoo's Restaurants ['28.6360028', '77.3026907']\n",
      "The Sandy's Kitchen ['28.6353615', '77.3032383']\n",
      "6\n",
      "6\n",
      "6\n",
      "Mauryan Multi Cuisine ['28.6413999', '77.2823153']\n",
      "Pind Balluchi Nehru Place ['28.5488353', '77.2515759']\n",
      "Hungry Food Family Restaurent ['28.6224367', '77.2949247']\n",
      "Kitchen Express ['28.622878', '77.2963919']\n",
      "Wings Kitchen ['28.6159939', '77.2869879']\n",
      "Aashirwad Restaurant ['28.6366838', '77.2848095']\n",
      "6\n",
      "6\n",
      "6\n",
      "Fang's Oriental Kitchen ['28.64458', '77.181167']\n",
      "Pavilion 75 ['28.5795275', '77.0558364']\n",
      "Luvneet kitchen's ['28.6245815', '77.2828969']\n",
      "Best Chicken Biryani ['28.698941', '77.2076001']\n",
      "Food Fizzik ['28.6350662', '77.3033121']\n",
      "Oh! Calcutta ['28.5373676', '77.2388996']\n",
      "6\n",
      "6\n",
      "6\n",
      "Madhurash Restaurant ['28.6338661', '77.3266645']\n",
      "Shanghai Chinese Food ['28.6392718', '77.2958273']\n",
      "The Great Kabab Factory ['28.633745', '77.217088']\n",
      "My Bar Square ['28.6328246', '77.2214938']\n",
      "Asia Kitchen by Mainland China ['28.5047829', '77.0969785']\n",
      "Al-kauser Mughalai Food ['28.6049155', '77.187297']\n",
      "6\n",
      "6\n",
      "12\n",
      "6\n",
      "12\n",
      "18\n",
      "21\n",
      "Fang's Oriental Kitchen ['28.64458', '77.181167']\n",
      "restaurants ['28.634425', '77.2833635']\n",
      "Mohan Foods ['28.620458', '77.283184']\n",
      "Together at 12th ['28.4803503', '77.1078467']\n",
      "Sayyam Restaurant ['28.5562177', '77.1714583']\n",
      "Restaurant ['28.6324058', '77.2786534']\n",
      "Rajdhani Thali Restaurant ['28.6298476', '77.2205813']\n",
      "Restaurant ['28.6205422', '77.3159296']\n",
      "DELHI 6 INDIAN &CHINESE FOOD ['28.615752', '77.312257']\n",
      "restaurant ['28.6371683', '77.2756181']\n",
      "Asian Home Restaurant ['28.700305', '77.227582']\n",
      "The 7's ['28.6110549', '77.2932056']\n",
      "Anmol Khana - Khazana ['28.6360862', '77.3042693']\n",
      "Punjabi Taste ['28.648348', '77.303278']\n",
      "Fire grill ['28.6351098', '77.303295']\n",
      "Brajwasi Sweet & Restaurant ['28.600933', '77.317754']\n",
      "RAJ MAHAL DELUX RESTAURANT ['28.4677278', '77.0212211']\n",
      "MAA KALKA FAST FOOD ['28.620906', '77.281413']\n",
      "Aapka Swad Number 1 ['28.5169841', '77.0794849']\n",
      "Manas Mithas ['28.6361683', '77.302652']\n",
      "The Great Kabab Factory - MGF Metropolitan Mall Saket ['28.528844', '77.220125']\n",
      "21\n",
      "21\n",
      "Fang's Oriental Kitchen ['28.64458', '77.181167']\n",
      "My Bar Headquarters ['28.6305223', '77.2196319']\n",
      "TakaMaka - Brewpub World Cuisine | Bar in Gurgaon ['28.4451116', '77.1015478']\n",
      "Chache Di Rasoi ['28.488881', '77.2872865']\n",
      "Indyaki ['28.6673725', '77.0912464']\n",
      "Bhai Sweet And Restaurant ['28.3505851', '77.3353469']\n",
      "6\n"
     ]
    },
    {
     "ename": "KeyboardInterrupt",
     "evalue": "",
     "output_type": "error",
     "traceback": [
      "\u001b[1;31m---------------------------------------------------------------------------\u001b[0m",
      "\u001b[1;31mKeyboardInterrupt\u001b[0m                         Traceback (most recent call last)",
      "\u001b[1;32m~\\AppData\\Local\\Temp/ipykernel_6476/2348167094.py\u001b[0m in \u001b[0;36m<module>\u001b[1;34m\u001b[0m\n\u001b[0;32m     11\u001b[0m \u001b[1;33m\u001b[0m\u001b[0m\n\u001b[0;32m     12\u001b[0m \u001b[1;33m\u001b[0m\u001b[0m\n\u001b[1;32m---> 13\u001b[1;33m     \u001b[0mtime\u001b[0m\u001b[1;33m.\u001b[0m\u001b[0msleep\u001b[0m\u001b[1;33m(\u001b[0m\u001b[1;36m5\u001b[0m\u001b[1;33m)\u001b[0m\u001b[1;33m\u001b[0m\u001b[1;33m\u001b[0m\u001b[0m\n\u001b[0m\u001b[0;32m     14\u001b[0m     \u001b[1;32mif\u001b[0m\u001b[1;33m(\u001b[0m\u001b[0mis_element_available\u001b[0m\u001b[1;33m(\u001b[0m\u001b[0mnext_button_xpath\u001b[0m\u001b[1;33m)\u001b[0m\u001b[1;33m)\u001b[0m\u001b[1;33m:\u001b[0m\u001b[1;33m\u001b[0m\u001b[1;33m\u001b[0m\u001b[0m\n\u001b[0;32m     15\u001b[0m         \u001b[0mclick_element\u001b[0m\u001b[1;33m(\u001b[0m\u001b[0mnext_button_xpath\u001b[0m\u001b[1;33m)\u001b[0m\u001b[1;33m\u001b[0m\u001b[1;33m\u001b[0m\u001b[0m\n",
      "\u001b[1;31mKeyboardInterrupt\u001b[0m: "
     ]
    }
   ],
   "source": [
    "while(True):\n",
    "    scroll_to_bottom()\n",
    "    time.sleep(5)\n",
    "    c = browser.find_elements_by_xpath(search_results_xpath)\n",
    "\n",
    "    for item in c:\n",
    "        data = item.text.split('\\n')\n",
    "        lat_lng = get_lat_long(item)\n",
    "        print(data[0],lat_lng)\n",
    "    print(len(c))\n",
    "    \n",
    "    \n",
    "    time.sleep(5)\n",
    "    if(is_element_available(next_button_xpath)):\n",
    "        click_element(next_button_xpath)\n",
    "        \n",
    "    else:\n",
    "        break"
   ]
  },
  {
   "cell_type": "code",
   "execution_count": null,
   "id": "db8c29ac",
   "metadata": {},
   "outputs": [],
   "source": []
  }
 ],
 "metadata": {
  "kernelspec": {
   "display_name": "Python 3 (ipykernel)",
   "language": "python",
   "name": "python3"
  },
  "language_info": {
   "codemirror_mode": {
    "name": "ipython",
    "version": 3
   },
   "file_extension": ".py",
   "mimetype": "text/x-python",
   "name": "python",
   "nbconvert_exporter": "python",
   "pygments_lexer": "ipython3",
   "version": "3.9.1"
  }
 },
 "nbformat": 4,
 "nbformat_minor": 5
}
